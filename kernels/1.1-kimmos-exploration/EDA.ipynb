{
 "cells": [
  {
   "cell_type": "code",
   "execution_count": null,
   "metadata": {},
   "outputs": [],
   "source": [
    "import pandas as pd\n",
    "import numpy as np\n",
    "import sklearn\n",
    "import torch\n",
    "from os import path\n",
    "import re\n",
    "import nltk\n",
    "import category_encoders as ce\n",
    "from nltk.corpus import stopwords\n",
    "from sklearn.base import clone\n",
    "from sklearn.pipeline import Pipeline, FeatureUnion\n",
    "from sklearn.preprocessing import StandardScaler, PowerTransformer, OneHotEncoder, RobustScaler, KBinsDiscretizer, QuantileTransformer\n",
    "from sklearn.feature_extraction.text import TfidfVectorizer\n",
    "from sklearn.compose import ColumnTransformer\n",
    "from sklearn.model_selection import StratifiedKFold, GridSearchCV, KFold, GroupKFold\n",
    "from sklearn.multioutput import MultiOutputRegressor\n",
    "from sklearn.impute import SimpleImputer\n",
    "from sklearn.metrics import make_scorer\n",
    "\n",
    "from sklearn.multiclass import OneVsRestClassifier\n",
    "from sklearn.linear_model import LinearRegression, Ridge, Lasso, HuberRegressor, RANSACRegressor\n",
    "from sklearn.svm import LinearSVR\n",
    "from sklearn.experimental import enable_hist_gradient_boosting \n",
    "from sklearn.ensemble import BaggingRegressor\n",
    "from scipy import stats\n"
   ]
  },
  {
   "cell_type": "code",
   "execution_count": null,
   "metadata": {},
   "outputs": [],
   "source": [
    "data_path = path.join(\"..\", \"..\", \"input\", \"google-quest-challenge\")\n",
    "train_csv = path.join(data_path, \"train.csv\")\n",
    "test_csv = path.join(data_path, \"test.csv\")\n",
    "\n",
    "train = pd.read_csv(train_csv)\n",
    "test = pd.read_csv(test_csv)"
   ]
  },
  {
   "cell_type": "code",
   "execution_count": null,
   "metadata": {},
   "outputs": [],
   "source": [
    "train.info()"
   ]
  },
  {
   "cell_type": "code",
   "execution_count": null,
   "metadata": {},
   "outputs": [],
   "source": [
    "train.head(10)"
   ]
  },
  {
   "cell_type": "markdown",
   "metadata": {},
   "source": [
    "### Clean-up code from [this kernel](https://www.kaggle.com/artgor/pytorch-approach)"
   ]
  },
  {
   "cell_type": "code",
   "execution_count": null,
   "metadata": {},
   "outputs": [],
   "source": [
    "targets = [\n",
    "        'question_asker_intent_understanding',\n",
    "        'question_body_critical',\n",
    "        'question_conversational',\n",
    "        'question_expect_short_answer',\n",
    "        'question_fact_seeking',\n",
    "        'question_has_commonly_accepted_answer',\n",
    "        'question_interestingness_others',\n",
    "        'question_interestingness_self',\n",
    "        'question_multi_intent',\n",
    "        'question_not_really_a_question',\n",
    "        'question_opinion_seeking',\n",
    "        'question_type_choice',\n",
    "        'question_type_compare',\n",
    "        'question_type_consequence',\n",
    "        'question_type_definition',\n",
    "        'question_type_entity',\n",
    "        'question_type_instructions',\n",
    "        'question_type_procedure',\n",
    "        'question_type_reason_explanation',\n",
    "        'question_type_spelling',\n",
    "        'question_well_written',\n",
    "        'answer_helpful',\n",
    "        'answer_level_of_information',\n",
    "        'answer_plausible',\n",
    "        'answer_relevance',\n",
    "        'answer_satisfaction',\n",
    "        'answer_type_instructions',\n",
    "        'answer_type_procedure',\n",
    "        'answer_type_reason_explanation',\n",
    "        'answer_well_written'    \n",
    "    ]"
   ]
  },
  {
   "cell_type": "markdown",
   "metadata": {},
   "source": [
    "### Baseline code from [this kernel](https://www.kaggle.com/labdmitriy/baseline-linear)"
   ]
  },
  {
   "cell_type": "code",
   "execution_count": null,
   "metadata": {},
   "outputs": [],
   "source": [
    "def spearman_corr(y_true, y_pred):\n",
    "    if np.ndim(y_pred) == 2:\n",
    "        corr = np.mean([stats.spearmanr(y_true[:, i], y_pred[:, i])[0] for i in range(y_true.shape[1])])\n",
    "    else:\n",
    "        corr = stats.spearmanr(y_true, y_pred)[0]\n",
    "    return corr\n",
    "    \n",
    "custom_scorer = make_scorer(spearman_corr, greater_is_better=True)"
   ]
  },
  {
   "cell_type": "code",
   "execution_count": null,
   "metadata": {},
   "outputs": [],
   "source": [
    "title_col = 'question_title'\n",
    "title_transformer = Pipeline([\n",
    "    ('tfidf', TfidfVectorizer())\n",
    "])\n",
    "\n",
    "body_col = 'question_body'\n",
    "body_transformer = Pipeline([\n",
    "    ('tfidf', TfidfVectorizer())\n",
    "])\n",
    "\n",
    "num_cols = [\n",
    "    # 'question_title_word_len', \n",
    "    # 'question_body_word_len', \n",
    "    # 'domains_count', \n",
    "    # 'answer_word_len', \n",
    "]\n",
    "num_transformer = Pipeline([\n",
    "    ('impute', SimpleImputer(strategy='constant', fill_value=0)),\n",
    "    ('scale', PowerTransformer(method='yeo-johnson'))\n",
    "])\n",
    "\n",
    "cat_cols = [\n",
    "    # 'domain_1', \n",
    "    # 'domain_2', \n",
    "    # 'domain_3', \n",
    "    'category', \n",
    "    # 'is_question_no_name_user',\n",
    "    # 'is_answer_no_name_user'\n",
    "]\n",
    "    # 'domain_1', \n",
    "    # 'domain_2', \n",
    "    # 'domain_3', \n",
    "    # 'category', \n",
    "    # 'is_question_no_name_user',\n",
    "    # 'is_answer_no_name_user'\n",
    "#\n",
    "\n",
    "cat_transformer = Pipeline([\n",
    "    ('impute', SimpleImputer(strategy='constant', fill_value='')),\n",
    "    ('encode', OneHotEncoder(handle_unknown='ignore'))\n",
    "])\n",
    "\n",
    "preprocessor = ColumnTransformer(\n",
    "    transformers = [\n",
    "        ('title', title_transformer, title_col),\n",
    "        ('body', body_transformer, body_col),\n",
    "        ('num', num_transformer, num_cols),\n",
    "        ('cat', cat_transformer, cat_cols)\n",
    "    ]\n",
    ")\n",
    "\n",
    "pipeline = Pipeline([\n",
    "    ('preprocessor', preprocessor),\n",
    "    ('estimator', LinearRegression())\n",
    "])"
   ]
  },
  {
   "cell_type": "code",
   "execution_count": null,
   "metadata": {},
   "outputs": [],
   "source": [
    "cols = train.loc[:, ~train.columns.isin(targets)].columns.tolist()\n",
    "X = train[cols]\n",
    "y = train[targets].values\n",
    "\n",
    "X.shape, y.shape"
   ]
  },
  {
   "cell_type": "code",
   "execution_count": null,
   "metadata": {},
   "outputs": [],
   "source": [
    "preprocessor.fit_transform(X, y)"
   ]
  },
  {
   "cell_type": "code",
   "execution_count": null,
   "metadata": {},
   "outputs": [],
   "source": [
    "RANDOM_STATE = 42\n",
    "cv = KFold(n_splits=5, shuffle=True, random_state=RANDOM_STATE)\n",
    "\n",
    "param_grid = {\n",
    "    'estimator': [\n",
    "        Ridge(random_state=RANDOM_STATE),\n",
    "    ],\n",
    "    'estimator__alpha': [20],\n",
    "    \n",
    "    'preprocessor__title__tfidf__lowercase': [False],\n",
    "    'preprocessor__title__tfidf__max_df': [0.3],\n",
    "    'preprocessor__title__tfidf__min_df': [1],\n",
    "    'preprocessor__title__tfidf__binary': [True],\n",
    "    'preprocessor__title__tfidf__use_idf': [True],\n",
    "    'preprocessor__title__tfidf__smooth_idf': [False],\n",
    "    'preprocessor__title__tfidf__sublinear_tf': [False],\n",
    "    'preprocessor__title__tfidf__ngram_range': [(1, 1)], # (1, 2)\n",
    "    'preprocessor__title__tfidf__stop_words': [None],\n",
    "    'preprocessor__title__tfidf__token_pattern': ['(?u)\\\\b\\\\w+\\\\b'],\n",
    "    'preprocessor__body__tfidf__lowercase': [False],\n",
    "    'preprocessor__body__tfidf__max_df': [0.3],\n",
    "    'preprocessor__body__tfidf__min_df': [1],\n",
    "    'preprocessor__body__tfidf__binary': [True],\n",
    "    'preprocessor__body__tfidf__use_idf': [False],\n",
    "    'preprocessor__body__tfidf__smooth_idf': [False],\n",
    "    'preprocessor__body__tfidf__sublinear_tf': [False],\n",
    "    'preprocessor__body__tfidf__ngram_range': [(1, 1)], # (1, 3)\n",
    "    'preprocessor__body__tfidf__stop_words': [None],\n",
    "    'preprocessor__body__tfidf__token_pattern': ['(?u)\\\\b\\\\w+\\\\b'],\n",
    "\n",
    "    'preprocessor__num__impute__strategy': ['constant'],\n",
    "    'preprocessor__num__scale': [PowerTransformer()],\n",
    "    \n",
    "    'preprocessor__cat__impute__strategy': ['constant'],\n",
    "    'preprocessor__cat__encode': [ce.BackwardDifferenceEncoder()],\n",
    "    \n",
    "}\n",
    "\n",
    "\n",
    "grid_search = GridSearchCV(pipeline, param_grid, scoring=custom_scorer, \n",
    "                           cv=cv, n_jobs=-1, refit=True, return_train_score=True, verbose=2)\n",
    "\n",
    "grid_search.fit(X, y)\n",
    "grid_search.best_score_, grid_search.best_params_, grid_search.cv_results_"
   ]
  },
  {
   "cell_type": "code",
   "execution_count": null,
   "metadata": {},
   "outputs": [],
   "source": [
    "pd.DataFrame.from_dict(grid_search.cv_results_)"
   ]
  }
 ],
 "metadata": {
  "language_info": {
   "name": "python",
   "pygments_lexer": "ipython3"
  }
 },
 "nbformat": 4,
 "nbformat_minor": 2
}
